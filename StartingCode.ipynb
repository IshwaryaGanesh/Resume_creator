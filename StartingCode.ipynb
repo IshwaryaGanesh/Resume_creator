{
 "cells": [
  {
   "cell_type": "code",
   "execution_count": 1,
   "metadata": {},
   "outputs": [
    {
     "name": "stdout",
     "output_type": "stream",
     "text": [
      "Requirement already satisfied: google-auth in c:\\users\\charu\\appdata\\local\\packages\\pythonsoftwarefoundation.python.3.11_qbz5n2kfra8p0\\localcache\\local-packages\\python311\\site-packages (2.28.1)\n",
      "Requirement already satisfied: google-auth-oauthlib in c:\\users\\charu\\appdata\\local\\packages\\pythonsoftwarefoundation.python.3.11_qbz5n2kfra8p0\\localcache\\local-packages\\python311\\site-packages (1.2.0)\n",
      "Collecting google-auth-httplib2\n",
      "  Downloading google_auth_httplib2-0.2.0-py2.py3-none-any.whl.metadata (2.2 kB)\n",
      "Requirement already satisfied: cachetools<6.0,>=2.0.0 in c:\\users\\charu\\appdata\\local\\packages\\pythonsoftwarefoundation.python.3.11_qbz5n2kfra8p0\\localcache\\local-packages\\python311\\site-packages (from google-auth) (5.3.3)\n",
      "Requirement already satisfied: pyasn1-modules>=0.2.1 in c:\\users\\charu\\appdata\\local\\packages\\pythonsoftwarefoundation.python.3.11_qbz5n2kfra8p0\\localcache\\local-packages\\python311\\site-packages (from google-auth) (0.3.0)\n",
      "Requirement already satisfied: rsa<5,>=3.1.4 in c:\\users\\charu\\appdata\\local\\packages\\pythonsoftwarefoundation.python.3.11_qbz5n2kfra8p0\\localcache\\local-packages\\python311\\site-packages (from google-auth) (4.9)\n",
      "Requirement already satisfied: requests-oauthlib>=0.7.0 in c:\\users\\charu\\appdata\\local\\packages\\pythonsoftwarefoundation.python.3.11_qbz5n2kfra8p0\\localcache\\local-packages\\python311\\site-packages (from google-auth-oauthlib) (1.3.1)\n",
      "Collecting httplib2>=0.19.0 (from google-auth-httplib2)\n",
      "  Downloading httplib2-0.22.0-py3-none-any.whl.metadata (2.6 kB)\n",
      "Requirement already satisfied: pyparsing!=3.0.0,!=3.0.1,!=3.0.2,!=3.0.3,<4,>=2.4.2 in c:\\users\\charu\\appdata\\local\\packages\\pythonsoftwarefoundation.python.3.11_qbz5n2kfra8p0\\localcache\\local-packages\\python311\\site-packages (from httplib2>=0.19.0->google-auth-httplib2) (3.1.1)\n",
      "Requirement already satisfied: pyasn1<0.6.0,>=0.4.6 in c:\\users\\charu\\appdata\\local\\packages\\pythonsoftwarefoundation.python.3.11_qbz5n2kfra8p0\\localcache\\local-packages\\python311\\site-packages (from pyasn1-modules>=0.2.1->google-auth) (0.5.1)\n",
      "Requirement already satisfied: oauthlib>=3.0.0 in c:\\users\\charu\\appdata\\local\\packages\\pythonsoftwarefoundation.python.3.11_qbz5n2kfra8p0\\localcache\\local-packages\\python311\\site-packages (from requests-oauthlib>=0.7.0->google-auth-oauthlib) (3.2.2)\n",
      "Requirement already satisfied: requests>=2.0.0 in c:\\users\\charu\\appdata\\local\\packages\\pythonsoftwarefoundation.python.3.11_qbz5n2kfra8p0\\localcache\\local-packages\\python311\\site-packages (from requests-oauthlib>=0.7.0->google-auth-oauthlib) (2.31.0)\n",
      "Requirement already satisfied: charset-normalizer<4,>=2 in c:\\users\\charu\\appdata\\local\\packages\\pythonsoftwarefoundation.python.3.11_qbz5n2kfra8p0\\localcache\\local-packages\\python311\\site-packages (from requests>=2.0.0->requests-oauthlib>=0.7.0->google-auth-oauthlib) (3.3.2)\n",
      "Requirement already satisfied: idna<4,>=2.5 in c:\\users\\charu\\appdata\\local\\packages\\pythonsoftwarefoundation.python.3.11_qbz5n2kfra8p0\\localcache\\local-packages\\python311\\site-packages (from requests>=2.0.0->requests-oauthlib>=0.7.0->google-auth-oauthlib) (3.6)\n",
      "Requirement already satisfied: urllib3<3,>=1.21.1 in c:\\users\\charu\\appdata\\local\\packages\\pythonsoftwarefoundation.python.3.11_qbz5n2kfra8p0\\localcache\\local-packages\\python311\\site-packages (from requests>=2.0.0->requests-oauthlib>=0.7.0->google-auth-oauthlib) (2.2.0)\n",
      "Requirement already satisfied: certifi>=2017.4.17 in c:\\users\\charu\\appdata\\local\\packages\\pythonsoftwarefoundation.python.3.11_qbz5n2kfra8p0\\localcache\\local-packages\\python311\\site-packages (from requests>=2.0.0->requests-oauthlib>=0.7.0->google-auth-oauthlib) (2024.2.2)\n",
      "Downloading google_auth_httplib2-0.2.0-py2.py3-none-any.whl (9.3 kB)\n",
      "Downloading httplib2-0.22.0-py3-none-any.whl (96 kB)\n",
      "   ---------------------------------------- 0.0/96.9 kB ? eta -:--:--\n",
      "   ---------------------------------------- 96.9/96.9 kB 5.4 MB/s eta 0:00:00\n",
      "Installing collected packages: httplib2, google-auth-httplib2\n",
      "Successfully installed google-auth-httplib2-0.2.0 httplib2-0.22.0\n",
      "Note: you may need to restart the kernel to use updated packages.\n"
     ]
    }
   ],
   "source": [
    "pip install google-auth google-auth-oauthlib google-auth-httplib2"
   ]
  },
  {
   "cell_type": "code",
   "execution_count": 2,
   "metadata": {},
   "outputs": [
    {
     "name": "stdout",
     "output_type": "stream",
     "text": [
      "Collecting python-docx\n",
      "  Downloading python_docx-1.1.2-py3-none-any.whl.metadata (2.0 kB)\n",
      "Collecting lxml>=3.1.0 (from python-docx)\n",
      "  Downloading lxml-5.2.2-cp311-cp311-win_amd64.whl.metadata (3.5 kB)\n",
      "Requirement already satisfied: typing-extensions>=4.9.0 in c:\\users\\charu\\appdata\\local\\packages\\pythonsoftwarefoundation.python.3.11_qbz5n2kfra8p0\\localcache\\local-packages\\python311\\site-packages (from python-docx) (4.10.0)\n",
      "Downloading python_docx-1.1.2-py3-none-any.whl (244 kB)\n",
      "   ---------------------------------------- 0.0/244.3 kB ? eta -:--:--\n",
      "   ----- ---------------------------------- 30.7/244.3 kB 1.3 MB/s eta 0:00:01\n",
      "   ------------------------------- -------- 194.6/244.3 kB 2.0 MB/s eta 0:00:01\n",
      "   -------------------------------------- - 235.5/244.3 kB 2.4 MB/s eta 0:00:01\n",
      "   ---------------------------------------- 244.3/244.3 kB 1.5 MB/s eta 0:00:00\n",
      "Downloading lxml-5.2.2-cp311-cp311-win_amd64.whl (3.8 MB)\n",
      "   ---------------------------------------- 0.0/3.8 MB ? eta -:--:--\n",
      "   -- ------------------------------------- 0.3/3.8 MB 7.9 MB/s eta 0:00:01\n",
      "   ---------- ----------------------------- 1.0/3.8 MB 10.3 MB/s eta 0:00:01\n",
      "   -------------------- ------------------- 2.0/3.8 MB 15.9 MB/s eta 0:00:01\n",
      "   ---------------------------------------  3.8/3.8 MB 18.6 MB/s eta 0:00:01\n",
      "   ---------------------------------------  3.8/3.8 MB 18.7 MB/s eta 0:00:01\n",
      "   ---------------------------------------- 3.8/3.8 MB 14.4 MB/s eta 0:00:00\n",
      "Installing collected packages: lxml, python-docx\n",
      "Successfully installed lxml-5.2.2 python-docx-1.1.2\n",
      "Note: you may need to restart the kernel to use updated packages.\n"
     ]
    }
   ],
   "source": [
    "pip install python-docx"
   ]
  },
  {
   "cell_type": "code",
   "execution_count": 3,
   "metadata": {},
   "outputs": [
    {
     "name": "stdout",
     "output_type": "stream",
     "text": [
      "Requirement already satisfied: python-docx in c:\\users\\charu\\appdata\\local\\packages\\pythonsoftwarefoundation.python.3.11_qbz5n2kfra8p0\\localcache\\local-packages\\python311\\site-packages (1.1.2)Note: you may need to restart the kernel to use updated packages.\n",
      "\n",
      "Requirement already satisfied: lxml>=3.1.0 in c:\\users\\charu\\appdata\\local\\packages\\pythonsoftwarefoundation.python.3.11_qbz5n2kfra8p0\\localcache\\local-packages\\python311\\site-packages (from python-docx) (5.2.2)\n",
      "Requirement already satisfied: typing-extensions>=4.9.0 in c:\\users\\charu\\appdata\\local\\packages\\pythonsoftwarefoundation.python.3.11_qbz5n2kfra8p0\\localcache\\local-packages\\python311\\site-packages (from python-docx) (4.10.0)\n"
     ]
    }
   ],
   "source": [
    "pip install python-docx"
   ]
  },
  {
   "cell_type": "code",
   "execution_count": 42,
   "metadata": {},
   "outputs": [],
   "source": [
    "import pandas as pd\n",
    "import numpy as np\n",
    "import math\n",
    "from docx import Document\n",
    "from docx.shared import Inches\n",
    "from docx.enum.table import WD_TABLE_ALIGNMENT\n",
    "from docx.oxml import OxmlElement\n",
    "from docx.shared import Pt"
   ]
  },
  {
   "cell_type": "code",
   "execution_count": 43,
   "metadata": {},
   "outputs": [
    {
     "name": "stdout",
     "output_type": "stream",
     "text": [
      "word document randombullshit created successfully.\n"
     ]
    }
   ],
   "source": [
    "#how to create a word document\n",
    "\n",
    "def create_word_document(name, filename, content):\n",
    "    doc = Document()\n",
    "    doc.add_heading(name, level=0)\n",
    "    doc.add_paragraph(content)\n",
    "    doc.save(filename)\n",
    "    print(f\"word document {filename} created successfully.\")\n",
    "\n",
    "document_content = \"\"\"bla bla bla\"\"\"\n",
    "create_word_document(\"Ishwarya Ganesh\", \"randombullshit\", document_content)"
   ]
  },
  {
   "cell_type": "code",
   "execution_count": 44,
   "metadata": {},
   "outputs": [],
   "source": [
    "filepath = \"\" #enter filepath of your resume\n",
    "\n",
    "def read_resume(filepath):\n",
    "    if len(filepath) == 0:\n",
    "        return \"Filepath not found\"\n",
    "    doc = Document(filepath)\n",
    "    resume_text = []\n",
    "    tables = []\n",
    "\n",
    "    for element in doc.element.body:\n",
    "        if element.tag.endswith('p'):\n",
    "            resume_text.append(element.text)\n",
    "        elif element.tag.endswith('tbl'):\n",
    "            # print(\"Entering table:\")\n",
    "            table = []\n",
    "            for row in element.iterfind('.//{http://schemas.openxmlformats.org/wordprocessingml/2006/main}tr'):\n",
    "                # print(\"Entering row:\")\n",
    "                row_data = []\n",
    "                for cell in row.iterfind('.//{http://schemas.openxmlformats.org/wordprocessingml/2006/main}tc'):\n",
    "                    # print(\"entering cell:\")\n",
    "                    cell_data = [c.text for c in cell.iterfind('.//{http://schemas.openxmlformats.org/wordprocessingml/2006/main}p')]\n",
    "                    # print(cell_data)\n",
    "                    row_data.append(' '.join(cell_data))\n",
    "                    # print(row_data)\n",
    "                table.append(row_data)\n",
    "            tables.append(pd.DataFrame(table))\n",
    "    \n",
    "    full_resume_text = '\\n'.join(resume_text)\n",
    "    return full_resume_text, tables\n",
    "\n",
    "\n"
   ]
  },
  {
   "cell_type": "code",
   "execution_count": 47,
   "metadata": {},
   "outputs": [
    {
     "data": {
      "text/html": [
       "<div>\n",
       "<style scoped>\n",
       "    .dataframe tbody tr th:only-of-type {\n",
       "        vertical-align: middle;\n",
       "    }\n",
       "\n",
       "    .dataframe tbody tr th {\n",
       "        vertical-align: top;\n",
       "    }\n",
       "\n",
       "    .dataframe thead th {\n",
       "        text-align: right;\n",
       "    }\n",
       "</style>\n",
       "<table border=\"1\" class=\"dataframe\">\n",
       "  <thead>\n",
       "    <tr style=\"text-align: right;\">\n",
       "      <th></th>\n",
       "      <th>0</th>\n",
       "      <th>1</th>\n",
       "      <th>2</th>\n",
       "      <th>3</th>\n",
       "    </tr>\n",
       "  </thead>\n",
       "  <tbody>\n",
       "    <tr>\n",
       "      <th>0</th>\n",
       "      <td>EDUCATION &amp; SCHOLASTIC ACHIEVEMENTS</td>\n",
       "      <td>None</td>\n",
       "      <td>None</td>\n",
       "      <td>None</td>\n",
       "    </tr>\n",
       "    <tr>\n",
       "      <th>1</th>\n",
       "      <td>PROGRAM</td>\n",
       "      <td>INSTITUTION</td>\n",
       "      <td>CGPA/%</td>\n",
       "      <td>YEAR</td>\n",
       "    </tr>\n",
       "    <tr>\n",
       "      <th>2</th>\n",
       "      <td>Metallurgical and Materials Engineering (B.Tec...</td>\n",
       "      <td>Indian Institute of Technology Madras</td>\n",
       "      <td>8.07/10</td>\n",
       "      <td>2025</td>\n",
       "    </tr>\n",
       "    <tr>\n",
       "      <th>3</th>\n",
       "      <td>Class XII (CBSE1)</td>\n",
       "      <td>Maharishi Vidya Mandir Sr. Sec. School</td>\n",
       "      <td>96.2/100</td>\n",
       "      <td>2020</td>\n",
       "    </tr>\n",
       "    <tr>\n",
       "      <th>4</th>\n",
       "      <td>Class X (CBSE1)</td>\n",
       "      <td>Maharishi Vidya Mandir Sr. Sec. School</td>\n",
       "      <td>94.8/100</td>\n",
       "      <td>2018</td>\n",
       "    </tr>\n",
       "    <tr>\n",
       "      <th>5</th>\n",
       "      <td>Recipient of the Smt. Subbalakshmi Ananta Nara...</td>\n",
       "      <td>None</td>\n",
       "      <td>None</td>\n",
       "      <td>None</td>\n",
       "    </tr>\n",
       "  </tbody>\n",
       "</table>\n",
       "</div>"
      ],
      "text/plain": [
       "                                                   0  ...     3\n",
       "0                EDUCATION & SCHOLASTIC ACHIEVEMENTS  ...  None\n",
       "1                                            PROGRAM  ...  YEAR\n",
       "2  Metallurgical and Materials Engineering (B.Tec...  ...  2025\n",
       "3                                  Class XII (CBSE1)  ...  2020\n",
       "4                                    Class X (CBSE1)  ...  2018\n",
       "5  Recipient of the Smt. Subbalakshmi Ananta Nara...  ...  None\n",
       "\n",
       "[6 rows x 4 columns]"
      ]
     },
     "execution_count": 47,
     "metadata": {},
     "output_type": "execute_result"
    }
   ],
   "source": [
    "table = read_resume(\"C:/Users/charu/Downloads/Consult Resume.docx\")[1][0]\n",
    "table"
   ]
  }
 ],
 "metadata": {
  "kernelspec": {
   "display_name": "Python 3",
   "language": "python",
   "name": "python3"
  },
  "language_info": {
   "codemirror_mode": {
    "name": "ipython",
    "version": 3
   },
   "file_extension": ".py",
   "mimetype": "text/x-python",
   "name": "python",
   "nbconvert_exporter": "python",
   "pygments_lexer": "ipython3",
   "version": "3.11.9"
  }
 },
 "nbformat": 4,
 "nbformat_minor": 2
}
